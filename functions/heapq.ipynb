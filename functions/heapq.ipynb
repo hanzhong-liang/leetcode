{
 "cells": [
  {
   "cell_type": "code",
   "execution_count": 1,
   "metadata": {},
   "outputs": [],
   "source": [
    "import heapq"
   ]
  },
  {
   "cell_type": "markdown",
   "metadata": {},
   "source": [
    "堆和堆排序 https://blog.csdn.net/weixin_43790276/article/details/107741332"
   ]
  },
  {
   "cell_type": "markdown",
   "metadata": {},
   "source": [
    "堆排序常用来做topk的问题，python里的堆是小顶堆，但是可以加负号自动成为大顶堆"
   ]
  },
  {
   "cell_type": "code",
   "execution_count": null,
   "metadata": {},
   "outputs": [],
   "source": [
    "heapq.heappush(heap, num) # 将num push到堆中\n",
    "heapq.heapify(array) # 将array原地变成小顶堆\n",
    "heapq.heappop(heap) # 从heap里pop一个最小的元素，同时将heap再变为小顶堆\n",
    "heapq.nlargest(2, heap) # 小顶堆中最大的n个元素\n",
    "heapq.nsmallest(3, heap) # 小顶堆中最小的n个元素"
   ]
  },
  {
   "cell_type": "markdown",
   "metadata": {},
   "source": [
    "初始化堆"
   ]
  },
  {
   "cell_type": "code",
   "execution_count": 8,
   "metadata": {},
   "outputs": [
    {
     "name": "stdout",
     "output_type": "stream",
     "text": [
      "heap:  [5, 7, 21, 15, 10, 24, 27, 45, 17, 30, 36, 50]\n"
     ]
    }
   ],
   "source": [
    "array = [10, 17, 50, 7, 30, 24, 27, 45, 15, 5, 36, 21]\n",
    "heap = []\n",
    "for num in array:\n",
    "    heapq.heappush(heap, num)\n",
    "print(\"heap: \", heap)\n"
   ]
  },
  {
   "cell_type": "code",
   "execution_count": 9,
   "metadata": {},
   "outputs": [
    {
     "name": "stdout",
     "output_type": "stream",
     "text": [
      "array: [5, 7, 21, 10, 17, 24, 27, 45, 15, 30, 36, 50]\n"
     ]
    }
   ],
   "source": [
    "array = [10, 17, 50, 7, 30, 24, 27, 45, 15, 5, 36, 21]\n",
    "heapq.heapify(array)\n",
    "print(\"array:\", array)"
   ]
  },
  {
   "cell_type": "markdown",
   "metadata": {},
   "source": [
    "堆排序，通过heappop弹出元素实现排序"
   ]
  },
  {
   "cell_type": "code",
   "execution_count": 10,
   "metadata": {},
   "outputs": [
    {
     "data": {
      "text/plain": [
       "[5, 7, 10, 15, 17, 21, 24, 27, 30, 36, 45, 50]"
      ]
     },
     "execution_count": 10,
     "metadata": {},
     "output_type": "execute_result"
    }
   ],
   "source": [
    "heap_sort = [heapq.heappop(heap) for _ in range(len(heap))]\n",
    "heap_sort"
   ]
  },
  {
   "cell_type": "markdown",
   "metadata": {},
   "source": [
    "获取堆中的最小值或最大值"
   ]
  },
  {
   "cell_type": "code",
   "execution_count": 11,
   "metadata": {},
   "outputs": [
    {
     "name": "stdout",
     "output_type": "stream",
     "text": [
      "[50, 45]\n",
      "[5, 7, 10]\n"
     ]
    }
   ],
   "source": [
    "array = [10, 17, 50, 7, 30, 24, 27, 45, 15, 5, 36, 21]\n",
    "heapq.heapify(array)\n",
    "print(heapq.nlargest(2, array))\n",
    "print(heapq.nsmallest(3, array))"
   ]
  },
  {
   "cell_type": "markdown",
   "metadata": {},
   "source": [
    "使用heapq合并两个有序列表"
   ]
  },
  {
   "cell_type": "code",
   "execution_count": 12,
   "metadata": {},
   "outputs": [
    {
     "name": "stdout",
     "output_type": "stream",
     "text": [
      "merge result: [3, 7, 8, 8, 10, 13, 15, 17, 20]\n"
     ]
    }
   ],
   "source": [
    "array_a = [10, 7, 15, 8]\n",
    "array_b = [17, 3, 8, 20, 13]\n",
    "array_merge = heapq.merge(sorted(array_a), sorted(array_b))\n",
    "print(\"merge result:\", list(array_merge))"
   ]
  },
  {
   "cell_type": "markdown",
   "metadata": {},
   "source": [
    "heapq替换数据的方法"
   ]
  },
  {
   "cell_type": "code",
   "execution_count": 13,
   "metadata": {},
   "outputs": [
    {
     "name": "stdout",
     "output_type": "stream",
     "text": [
      "before: [7, 8, 15, 10]\n",
      "after:  [7, 8, 15, 10]\n",
      "5\n",
      "before: [7, 8, 15, 10]\n",
      "after:  [5, 8, 15, 10]\n",
      "7\n"
     ]
    }
   ],
   "source": [
    "array_c = [10, 7, 15, 8]\n",
    "heapq.heapify(array_c)\n",
    "print(\"before:\", array_c)\n",
    "# 先push再pop\n",
    "item = heapq.heappushpop(array_c, 5)\n",
    "print(\"after: \", array_c)\n",
    "print(item)\n",
    " \n",
    "array_d = [10, 7, 15, 8]\n",
    "heapq.heapify(array_d)\n",
    "print(\"before:\", array_d)\n",
    "# 先pop再push\n",
    "item = heapq.heapreplace(array_d, 5)\n",
    "print(\"after: \", array_d)\n",
    "print(item)"
   ]
  }
 ],
 "metadata": {
  "kernelspec": {
   "display_name": "Python 3.8.10 64-bit",
   "language": "python",
   "name": "python3"
  },
  "language_info": {
   "codemirror_mode": {
    "name": "ipython",
    "version": 3
   },
   "file_extension": ".py",
   "mimetype": "text/x-python",
   "name": "python",
   "nbconvert_exporter": "python",
   "pygments_lexer": "ipython3",
   "version": "3.8.10"
  },
  "orig_nbformat": 4,
  "vscode": {
   "interpreter": {
    "hash": "5964d1c8e9f11191081a17b6789920ad900dd1fd510d3c39233f034a13ef4dd6"
   }
  }
 },
 "nbformat": 4,
 "nbformat_minor": 2
}
