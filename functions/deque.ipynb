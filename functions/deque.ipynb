{
 "cells": [
  {
   "cell_type": "code",
   "execution_count": 1,
   "metadata": {},
   "outputs": [],
   "source": [
    "from collections import deque"
   ]
  },
  {
   "cell_type": "markdown",
   "metadata": {},
   "source": [
    "append(x)：添加 x 到右端。\n",
    "\n",
    "appendleft(x)：添加 x 到左端。\n",
    "\n",
    "clear()：移除所有元素，使其长度为0.\n",
    "\n",
    "copy()：创建一份浅拷贝。3.5 新版功能.\n",
    "\n",
    "count(x)：计算deque中个数等于 x 的元素。3.2 新版功能.\n",
    "\n",
    "extend(iterable)：扩展deque的右侧，通过添加iterable参数中的元素。\n",
    "\n",
    "extendleft(iterable)：扩展deque的左侧，通过添加iterable参数中的元素。注意，左添加时，在结果中iterable参数中的顺序将被反过来添加。\n",
    "\n",
    "index(x[, start[, stop]])：返回第 x 个元素（从 start 开始计算，在 stop 之前）。返回第一个匹配，如果没找到的话，升起 ValueError 。3.5 新版功能.\n",
    "\n",
    "insert(i, x)：在位置 i 插入 x 。如果插入会导致一个限长deque超出长度 maxlen 的话，就升起一个 IndexError 。3.5 新版功能.\n",
    "\n",
    "pop()：移去并且返回一个元素，deque最右侧的那一个。如果没有元素的话，就升起 IndexError 索引错误。\n",
    "\n",
    "popleft()：移去并且返回一个元素，deque最左侧的那一个。如果没有元素的话，就升起 IndexError 索引错误。\n",
    "\n",
    "remove(value)：移去找到的第一个 value。 如果没有的话就升起 ValueError 。\n",
    "\n",
    "reverse()：将deque逆序排列。返回 None 。3.2 新版功能.\n",
    "\n",
    "rotate(n=1)：向右循环移动 n 步。 如果 n 是负数，就向左循环。如果deque不是空的，向右循环移动一步就等价于 d.appendleft(d.pop()) ， 向左循环一步就等价于 d.append(d.popleft()) 。\n",
    "\n",
    "Deque对象同样提供了一个只读属性:\n",
    "maxlen：Deque的最大尺寸，如果没有限定的话就是 None 。\n"
   ]
  },
  {
   "cell_type": "code",
   "execution_count": 6,
   "metadata": {},
   "outputs": [
    {
     "data": {
      "text/plain": [
       "deque(['a', 'b', 'c', 'd'])"
      ]
     },
     "execution_count": 6,
     "metadata": {},
     "output_type": "execute_result"
    }
   ],
   "source": [
    "q = deque(['a', 'b', 'c'])\n",
    "# 从右边添加一个元素\n",
    "q.append('d')\n",
    "q"
   ]
  },
  {
   "cell_type": "code",
   "execution_count": 7,
   "metadata": {},
   "outputs": [
    {
     "data": {
      "text/plain": [
       "deque(['b', 'c', 'd'])"
      ]
     },
     "execution_count": 7,
     "metadata": {},
     "output_type": "execute_result"
    }
   ],
   "source": [
    "q.popleft()\n",
    "q"
   ]
  },
  {
   "cell_type": "code",
   "execution_count": 8,
   "metadata": {},
   "outputs": [
    {
     "data": {
      "text/plain": [
       "deque(['b', 'c', 'd', 'i', 'j'])"
      ]
     },
     "execution_count": 8,
     "metadata": {},
     "output_type": "execute_result"
    }
   ],
   "source": [
    "q.extend(['i', 'j'])\n",
    "q"
   ]
  },
  {
   "cell_type": "code",
   "execution_count": 10,
   "metadata": {},
   "outputs": [
    {
     "ename": "ValueError",
     "evalue": "'c' is not in deque",
     "output_type": "error",
     "traceback": [
      "\u001b[1;31m---------------------------------------------------------------------------\u001b[0m",
      "\u001b[1;31mValueError\u001b[0m                                Traceback (most recent call last)",
      "\u001b[1;32md:\\job search\\刷题\\内置函数\\deque.ipynb Cell 6\u001b[0m in \u001b[0;36m<cell line: 1>\u001b[1;34m()\u001b[0m\n\u001b[1;32m----> <a href='vscode-notebook-cell:/d%3A/job%20search/%E5%88%B7%E9%A2%98/%E5%86%85%E7%BD%AE%E5%87%BD%E6%95%B0/deque.ipynb#W5sZmlsZQ%3D%3D?line=0'>1</a>\u001b[0m q\u001b[39m.\u001b[39;49mindex(\u001b[39m'\u001b[39;49m\u001b[39mc\u001b[39;49m\u001b[39m'\u001b[39;49m,\u001b[39m2\u001b[39;49m,\u001b[39m5\u001b[39;49m)\n",
      "\u001b[1;31mValueError\u001b[0m: 'c' is not in deque"
     ]
    }
   ],
   "source": [
    "q.index('c',2,5)"
   ]
  },
  {
   "cell_type": "code",
   "execution_count": 12,
   "metadata": {},
   "outputs": [
    {
     "ename": "ValueError",
     "evalue": "deque.remove(x): x not in deque",
     "output_type": "error",
     "traceback": [
      "\u001b[1;31m---------------------------------------------------------------------------\u001b[0m",
      "\u001b[1;31mValueError\u001b[0m                                Traceback (most recent call last)",
      "\u001b[1;32md:\\job search\\刷题\\内置函数\\deque.ipynb Cell 7\u001b[0m in \u001b[0;36m<cell line: 1>\u001b[1;34m()\u001b[0m\n\u001b[1;32m----> <a href='vscode-notebook-cell:/d%3A/job%20search/%E5%88%B7%E9%A2%98/%E5%86%85%E7%BD%AE%E5%87%BD%E6%95%B0/deque.ipynb#W6sZmlsZQ%3D%3D?line=0'>1</a>\u001b[0m q\u001b[39m.\u001b[39;49mremove(\u001b[39m'\u001b[39;49m\u001b[39md\u001b[39;49m\u001b[39m'\u001b[39;49m)\n\u001b[0;32m      <a href='vscode-notebook-cell:/d%3A/job%20search/%E5%88%B7%E9%A2%98/%E5%86%85%E7%BD%AE%E5%87%BD%E6%95%B0/deque.ipynb#W6sZmlsZQ%3D%3D?line=1'>2</a>\u001b[0m q\n",
      "\u001b[1;31mValueError\u001b[0m: deque.remove(x): x not in deque"
     ]
    }
   ],
   "source": [
    "q.remove('d')\n",
    "q"
   ]
  },
  {
   "cell_type": "code",
   "execution_count": 14,
   "metadata": {},
   "outputs": [
    {
     "name": "stdout",
     "output_type": "stream",
     "text": [
      "deque(['j', 'b', 'c', 'i'])\n",
      "deque(['b', 'c', 'i', 'j'])\n"
     ]
    }
   ],
   "source": [
    "print(q)\n",
    "q.rotate(3)\n",
    "print(q)"
   ]
  },
  {
   "cell_type": "code",
   "execution_count": 15,
   "metadata": {},
   "outputs": [
    {
     "name": "stdout",
     "output_type": "stream",
     "text": [
      "deque(['b', 'c', 'i', 'j'])\n",
      "deque(['j', 'i', 'c', 'b'])\n"
     ]
    }
   ],
   "source": [
    "print(q)\n",
    "q.reverse()\n",
    "print(q)"
   ]
  }
 ],
 "metadata": {
  "kernelspec": {
   "display_name": "Python 3.8.10 64-bit",
   "language": "python",
   "name": "python3"
  },
  "language_info": {
   "codemirror_mode": {
    "name": "ipython",
    "version": 3
   },
   "file_extension": ".py",
   "mimetype": "text/x-python",
   "name": "python",
   "nbconvert_exporter": "python",
   "pygments_lexer": "ipython3",
   "version": "3.8.10"
  },
  "orig_nbformat": 4,
  "vscode": {
   "interpreter": {
    "hash": "5964d1c8e9f11191081a17b6789920ad900dd1fd510d3c39233f034a13ef4dd6"
   }
  }
 },
 "nbformat": 4,
 "nbformat_minor": 2
}
