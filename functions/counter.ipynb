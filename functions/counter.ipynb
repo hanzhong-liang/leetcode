{
 "cells": [
  {
   "cell_type": "code",
   "execution_count": 1,
   "metadata": {},
   "outputs": [],
   "source": [
    "from collections import Counter"
   ]
  },
  {
   "cell_type": "markdown",
   "metadata": {},
   "source": [
    "Counter()可以统计字符串中每个字符出现的次数，也可以统计数组中每个数字出现的次数，Counter本质上还是一个有序的字典"
   ]
  },
  {
   "cell_type": "markdown",
   "metadata": {},
   "source": [
    "常用"
   ]
  },
  {
   "cell_type": "code",
   "execution_count": 44,
   "metadata": {},
   "outputs": [
    {
     "data": {
      "text/plain": [
       "(6,\n",
       " [('e', 6), ('b', 4), ('a', 3)],\n",
       " dict_items([('e', 6), ('b', 4), ('a', 3), ('c', 2), ('d', 1)]),\n",
       " 16)"
      ]
     },
     "execution_count": 44,
     "metadata": {},
     "output_type": "execute_result"
    }
   ],
   "source": [
    "c = Counter('eeeeebbbbaaaccd') \n",
    "c['e']+=1\n",
    "c['e'],c.most_common(3),c.items(),sum(c.values())\n"
   ]
  },
  {
   "cell_type": "markdown",
   "metadata": {},
   "source": [
    "初始化一个counter"
   ]
  },
  {
   "cell_type": "code",
   "execution_count": 19,
   "metadata": {},
   "outputs": [
    {
     "data": {
      "text/plain": [
       "(Counter({'e': 5, 'b': 4, 'a': 3, 'c': 2, 'd': 1}),\n",
       " Counter({2: 4, 3: 3, 1: 2, 0: 1}),\n",
       " Counter({'a': 3, 'b': 2, 'c': 1}),\n",
       " Counter({'abc': 2, 'a': 1, 'b': 2, 'c': 1}))"
      ]
     },
     "execution_count": 19,
     "metadata": {},
     "output_type": "execute_result"
    }
   ],
   "source": [
    "c = Counter('eeeeebbbbaaaccd') \n",
    "c1 = Counter([2,2,2,2,3,3,3,1,1,0]) \n",
    "c2 = Counter(['a','a','a','b','b','c']) \n",
    "c3 = Counter(['abc','abc','a','b','b','c']) \n",
    "c,c1,c2,c3"
   ]
  },
  {
   "cell_type": "markdown",
   "metadata": {},
   "source": [
    "不过这样是不行滴"
   ]
  },
  {
   "cell_type": "code",
   "execution_count": 20,
   "metadata": {},
   "outputs": [
    {
     "ename": "TypeError",
     "evalue": "unhashable type: 'list'",
     "output_type": "error",
     "traceback": [
      "\u001b[1;31m---------------------------------------------------------------------------\u001b[0m",
      "\u001b[1;31mTypeError\u001b[0m                                 Traceback (most recent call last)",
      "\u001b[1;32md:\\job search\\刷题\\counter.ipynb Cell 6\u001b[0m in \u001b[0;36m<cell line: 3>\u001b[1;34m()\u001b[0m\n\u001b[0;32m      <a href='vscode-notebook-cell:/d%3A/job%20search/%E5%88%B7%E9%A2%98/counter.ipynb#X10sZmlsZQ%3D%3D?line=0'>1</a>\u001b[0m a \u001b[39m=\u001b[39m [\u001b[39m1\u001b[39m,\u001b[39m2\u001b[39m,\u001b[39m3\u001b[39m,\u001b[39m4\u001b[39m,\u001b[39m5\u001b[39m]\n\u001b[0;32m      <a href='vscode-notebook-cell:/d%3A/job%20search/%E5%88%B7%E9%A2%98/counter.ipynb#X10sZmlsZQ%3D%3D?line=1'>2</a>\u001b[0m b \u001b[39m=\u001b[39m [\u001b[39m1\u001b[39m,\u001b[39m2\u001b[39m,\u001b[39m3\u001b[39m,\u001b[39m4\u001b[39m,\u001b[39m5\u001b[39m]\n\u001b[1;32m----> <a href='vscode-notebook-cell:/d%3A/job%20search/%E5%88%B7%E9%A2%98/counter.ipynb#X10sZmlsZQ%3D%3D?line=2'>3</a>\u001b[0m c4 \u001b[39m=\u001b[39m Counter([a,a,b])\n",
      "File \u001b[1;32mc:\\Users\\hanzh\\AppData\\Local\\Programs\\Python\\Python38\\lib\\collections\\__init__.py:552\u001b[0m, in \u001b[0;36mCounter.__init__\u001b[1;34m(self, iterable, **kwds)\u001b[0m\n\u001b[0;32m    541\u001b[0m \u001b[39m'''Create a new, empty Counter object.  And if given, count elements\u001b[39;00m\n\u001b[0;32m    542\u001b[0m \u001b[39mfrom an input iterable.  Or, initialize the count from another mapping\u001b[39;00m\n\u001b[0;32m    543\u001b[0m \u001b[39mof elements to their counts.\u001b[39;00m\n\u001b[1;32m   (...)\u001b[0m\n\u001b[0;32m    549\u001b[0m \n\u001b[0;32m    550\u001b[0m \u001b[39m'''\u001b[39;00m\n\u001b[0;32m    551\u001b[0m \u001b[39msuper\u001b[39m(Counter, \u001b[39mself\u001b[39m)\u001b[39m.\u001b[39m\u001b[39m__init__\u001b[39m()\n\u001b[1;32m--> 552\u001b[0m \u001b[39mself\u001b[39;49m\u001b[39m.\u001b[39;49mupdate(iterable, \u001b[39m*\u001b[39;49m\u001b[39m*\u001b[39;49mkwds)\n",
      "File \u001b[1;32mc:\\Users\\hanzh\\AppData\\Local\\Programs\\Python\\Python38\\lib\\collections\\__init__.py:637\u001b[0m, in \u001b[0;36mCounter.update\u001b[1;34m(self, iterable, **kwds)\u001b[0m\n\u001b[0;32m    635\u001b[0m             \u001b[39msuper\u001b[39m(Counter, \u001b[39mself\u001b[39m)\u001b[39m.\u001b[39mupdate(iterable) \u001b[39m# fast path when counter is empty\u001b[39;00m\n\u001b[0;32m    636\u001b[0m     \u001b[39melse\u001b[39;00m:\n\u001b[1;32m--> 637\u001b[0m         _count_elements(\u001b[39mself\u001b[39;49m, iterable)\n\u001b[0;32m    638\u001b[0m \u001b[39mif\u001b[39;00m kwds:\n\u001b[0;32m    639\u001b[0m     \u001b[39mself\u001b[39m\u001b[39m.\u001b[39mupdate(kwds)\n",
      "\u001b[1;31mTypeError\u001b[0m: unhashable type: 'list'"
     ]
    }
   ],
   "source": [
    "a = [1,2,3,4,5]\n",
    "b = [1,2,3,4,5]\n",
    "c4 = Counter([a,a,b]) "
   ]
  },
  {
   "cell_type": "markdown",
   "metadata": {},
   "source": [
    "可以访问某个元素，输出频率最高的几个元素的数组，元素的key（有序的），所有元素（用来遍历）"
   ]
  },
  {
   "cell_type": "code",
   "execution_count": 25,
   "metadata": {},
   "outputs": [
    {
     "data": {
      "text/plain": [
       "(3,\n",
       " [('e', 5), ('b', 4), ('a', 3)],\n",
       " dict_keys(['e', 'b', 'a', 'c', 'd']),\n",
       " dict_values([5, 4, 3, 2, 1]),\n",
       " dict_items([('e', 5), ('b', 4), ('a', 3), ('c', 2), ('d', 1)]))"
      ]
     },
     "execution_count": 25,
     "metadata": {},
     "output_type": "execute_result"
    }
   ],
   "source": [
    "c['a'], c.most_common(3), c.keys(), c.values(), c.items()"
   ]
  },
  {
   "cell_type": "markdown",
   "metadata": {},
   "source": [
    "遍历元素"
   ]
  },
  {
   "cell_type": "code",
   "execution_count": 14,
   "metadata": {},
   "outputs": [
    {
     "name": "stdout",
     "output_type": "stream",
     "text": [
      "e 5\n",
      "b 4\n",
      "a 3\n",
      "c 2\n",
      "d 1\n"
     ]
    }
   ],
   "source": [
    "for val,cnt in c.items():\n",
    "    print(val,cnt)"
   ]
  },
  {
   "cell_type": "markdown",
   "metadata": {},
   "source": [
    "有序的key"
   ]
  },
  {
   "cell_type": "code",
   "execution_count": 24,
   "metadata": {},
   "outputs": [
    {
     "data": {
      "text/plain": [
       "[1, 2, 3, 4, 5]"
      ]
     },
     "execution_count": 24,
     "metadata": {},
     "output_type": "execute_result"
    }
   ],
   "source": [
    "sorted(c.values())"
   ]
  },
  {
   "cell_type": "markdown",
   "metadata": {},
   "source": [
    "输出element"
   ]
  },
  {
   "cell_type": "code",
   "execution_count": 29,
   "metadata": {},
   "outputs": [
    {
     "data": {
      "text/plain": [
       "('eeeeebbbbaaaccd', 'aaabbbbccdeeeee')"
      ]
     },
     "execution_count": 29,
     "metadata": {},
     "output_type": "execute_result"
    }
   ],
   "source": [
    "''.join(c.elements()), ''.join(sorted(c.elements())) "
   ]
  },
  {
   "cell_type": "markdown",
   "metadata": {},
   "source": [
    "统计数量"
   ]
  },
  {
   "cell_type": "code",
   "execution_count": 30,
   "metadata": {},
   "outputs": [
    {
     "data": {
      "text/plain": [
       "15"
      ]
     },
     "execution_count": 30,
     "metadata": {},
     "output_type": "execute_result"
    }
   ],
   "source": [
    "sum(c.values())"
   ]
  },
  {
   "cell_type": "markdown",
   "metadata": {},
   "source": [
    "改变数量，要注意这个时候的counter不是有序的了，但是可以用most_common()，得到有序的结果"
   ]
  },
  {
   "cell_type": "code",
   "execution_count": 35,
   "metadata": {},
   "outputs": [
    {
     "data": {
      "text/plain": [
       "(Counter({'e': 5,\n",
       "          'b': 5,\n",
       "          'a': 13,\n",
       "          'c': 2,\n",
       "          'd': 1,\n",
       "          's': 6,\n",
       "          'h': 4,\n",
       "          'z': 4,\n",
       "          'm': 6,\n",
       "          'i': 2,\n",
       "          'l': 1}),\n",
       " [('a', 13),\n",
       "  ('s', 6),\n",
       "  ('m', 6),\n",
       "  ('e', 5),\n",
       "  ('b', 5),\n",
       "  ('h', 4),\n",
       "  ('z', 4),\n",
       "  ('c', 2),\n",
       "  ('i', 2),\n",
       "  ('d', 1),\n",
       "  ('l', 1)])"
      ]
     },
     "execution_count": 35,
     "metadata": {},
     "output_type": "execute_result"
    }
   ],
   "source": [
    "for elem in 'shazam':\n",
    "     c[elem] += 1 \n",
    "c,c.most_common()"
   ]
  },
  {
   "cell_type": "markdown",
   "metadata": {},
   "source": [
    "counter可以被减到负数"
   ]
  },
  {
   "cell_type": "code",
   "execution_count": 42,
   "metadata": {},
   "outputs": [
    {
     "data": {
      "text/plain": [
       "-1"
      ]
     },
     "execution_count": 42,
     "metadata": {},
     "output_type": "execute_result"
    }
   ],
   "source": [
    "c['d'] -= 2 \n",
    "c['d']"
   ]
  },
  {
   "cell_type": "markdown",
   "metadata": {},
   "source": [
    "这样就是不展示出来了而已"
   ]
  },
  {
   "cell_type": "code",
   "execution_count": 43,
   "metadata": {},
   "outputs": [
    {
     "data": {
      "text/plain": [
       "'eeeeebbbbbaaaaaaaaaaaaaccsssssshhhhzzzzmmmmmmiil'"
      ]
     },
     "execution_count": 43,
     "metadata": {},
     "output_type": "execute_result"
    }
   ],
   "source": [
    "''.join(c.elements())"
   ]
  },
  {
   "cell_type": "markdown",
   "metadata": {},
   "source": [
    "插一句如何给字典排序"
   ]
  },
  {
   "cell_type": "code",
   "execution_count": 41,
   "metadata": {},
   "outputs": [
    {
     "data": {
      "text/plain": [
       "[('d', 1),\n",
       " ('l', 1),\n",
       " ('c', 2),\n",
       " ('i', 2),\n",
       " ('h', 4),\n",
       " ('z', 4),\n",
       " ('e', 5),\n",
       " ('b', 5),\n",
       " ('s', 6),\n",
       " ('m', 6),\n",
       " ('a', 13)]"
      ]
     },
     "execution_count": 41,
     "metadata": {},
     "output_type": "execute_result"
    }
   ],
   "source": [
    "sorted(c.items(),key=lambda x: x[1])"
   ]
  },
  {
   "cell_type": "markdown",
   "metadata": {},
   "source": [
    "用另一个counter去更新原有counter"
   ]
  },
  {
   "cell_type": "code",
   "execution_count": 33,
   "metadata": {},
   "outputs": [
    {
     "data": {
      "text/plain": [
       "Counter({'e': 5,\n",
       "         'b': 5,\n",
       "         'a': 9,\n",
       "         'c': 2,\n",
       "         'd': 1,\n",
       "         's': 4,\n",
       "         'h': 2,\n",
       "         'z': 2,\n",
       "         'm': 4,\n",
       "         'i': 2,\n",
       "         'l': 1})"
      ]
     },
     "execution_count": 33,
     "metadata": {},
     "output_type": "execute_result"
    }
   ],
   "source": [
    "d = Counter('simsalabim')\n",
    "c.update(d)  \n",
    "c\n"
   ]
  }
 ],
 "metadata": {
  "kernelspec": {
   "display_name": "Python 3.8.10 64-bit",
   "language": "python",
   "name": "python3"
  },
  "language_info": {
   "codemirror_mode": {
    "name": "ipython",
    "version": 3
   },
   "file_extension": ".py",
   "mimetype": "text/x-python",
   "name": "python",
   "nbconvert_exporter": "python",
   "pygments_lexer": "ipython3",
   "version": "3.8.10"
  },
  "orig_nbformat": 4,
  "vscode": {
   "interpreter": {
    "hash": "5964d1c8e9f11191081a17b6789920ad900dd1fd510d3c39233f034a13ef4dd6"
   }
  }
 },
 "nbformat": 4,
 "nbformat_minor": 2
}
